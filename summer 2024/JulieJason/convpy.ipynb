{
 "cells": [
  {
   "cell_type": "code",
   "execution_count": 1,
   "id": "72a9a232",
   "metadata": {},
   "outputs": [
    {
     "name": "stderr",
     "output_type": "stream",
     "text": [
      "/usr/lib/python3/dist-packages/scipy/__init__.py:146: UserWarning: A NumPy version >=1.17.3 and <1.25.0 is required for this version of SciPy (detected version 1.26.4\n",
      "  warnings.warn(f\"A NumPy version >={np_minversion} and <{np_maxversion}\"\n"
     ]
    }
   ],
   "source": [
    "import scipy.io"
   ]
  },
  {
   "cell_type": "code",
   "execution_count": 2,
   "id": "6db39157",
   "metadata": {},
   "outputs": [],
   "source": [
    "mat = scipy.io.loadmat('EMGdat.mat')\n",
    "\n"
   ]
  },
  {
   "cell_type": "code",
   "execution_count": 4,
   "id": "e4238af5",
   "metadata": {},
   "outputs": [
    {
     "ename": "AttributeError",
     "evalue": "'dict' object has no attribute 'tolist'",
     "output_type": "error",
     "traceback": [
      "\u001b[0;31m---------------------------------------------------------------------------\u001b[0m",
      "\u001b[0;31mAttributeError\u001b[0m                            Traceback (most recent call last)",
      "\u001b[0;32m/tmp/ipykernel_166201/1120616442.py\u001b[0m in \u001b[0;36m<module>\u001b[0;34m\u001b[0m\n\u001b[1;32m      6\u001b[0m   \u001b[0mwriter\u001b[0m \u001b[0;34m=\u001b[0m \u001b[0mcsv\u001b[0m\u001b[0;34m.\u001b[0m\u001b[0mwriter\u001b[0m\u001b[0;34m(\u001b[0m\u001b[0mcsvfile\u001b[0m\u001b[0;34m)\u001b[0m\u001b[0;34m\u001b[0m\u001b[0;34m\u001b[0m\u001b[0m\n\u001b[1;32m      7\u001b[0m   \u001b[0;31m# Use numpy.savetxt to directly write the array\u001b[0m\u001b[0;34m\u001b[0m\u001b[0;34m\u001b[0m\u001b[0m\n\u001b[0;32m----> 8\u001b[0;31m   \u001b[0mwriter\u001b[0m\u001b[0;34m.\u001b[0m\u001b[0mwriterows\u001b[0m\u001b[0;34m(\u001b[0m\u001b[0mmat\u001b[0m\u001b[0;34m.\u001b[0m\u001b[0mtolist\u001b[0m\u001b[0;34m(\u001b[0m\u001b[0;34m)\u001b[0m\u001b[0;34m)\u001b[0m\u001b[0;34m\u001b[0m\u001b[0;34m\u001b[0m\u001b[0m\n\u001b[0m",
      "\u001b[0;31mAttributeError\u001b[0m: 'dict' object has no attribute 'tolist'"
     ]
    }
   ],
   "source": [
    "import csv\n",
    "import numpy as np\n",
    "\n"
   ]
  },
  {
   "cell_type": "code",
   "execution_count": 6,
   "id": "338aa255",
   "metadata": {
    "scrolled": false
   },
   "outputs": [
    {
     "name": "stdout",
     "output_type": "stream",
     "text": [
      "{'__header__': b'MATLAB 5.0 MAT-file, Platform: BioTrace, Created On: Sun Jan 01 01:01:01 2001', '__version__': '1.0', '__globals__': [], 'Sessioninfo\\x00\\x00\\x00\\x00\\x00': array(['\\nClient:\\tSkyla,Sandoval',\n",
      "       '\\nSession:\\tSandoval.Skyla 1 middle deloids 2 pecs 6.28.17 ',\n",
      "       '\\nDate:\\t28-06-2017', '\\nTime:\\t14:03:14',\n",
      "       '\\nDuration:\\t1197\\tSeconds.',\n",
      "       '\\nOutput rate:\\t2048\\tSamples/sec.\\n\\n', '', ''], dtype='<U57'), 'Sessiondata\\x00\\x00\\x00\\x00\\x00': array([[array(['hh:mm:ss'], dtype='<U8'),\n",
      "        array(['2048 SPS'], dtype='<U8'), array(['32 SPS'], dtype='<U6'),\n",
      "        array(['32 SPS'], dtype='<U6'),\n",
      "        array([], shape=(1, 0), dtype=float64),\n",
      "        array([], shape=(1, 0), dtype=float64)],\n",
      "       [array(['TIME'], dtype='<U4'),\n",
      "        array(['[C] EMG (20-500 Hz)'], dtype='<U19'),\n",
      "        array(['[C] EMG Amp. (20-500 Hz)'], dtype='<U24'),\n",
      "        array(['[C] EMG Median Freq.'], dtype='<U20'),\n",
      "        array(['Events'], dtype='<U6'), array(['Segments'], dtype='<U8')],\n",
      "       [array([], shape=(1, 0), dtype=float64),\n",
      "        array([], shape=(1, 0), dtype=float64),\n",
      "        array([], shape=(1, 0), dtype=float64),\n",
      "        array([], shape=(1, 0), dtype=float64),\n",
      "        array([], shape=(1, 0), dtype=float64),\n",
      "        array([], shape=(1, 0), dtype=float64)],\n",
      "       ...,\n",
      "       [array(['00:19:56'], dtype='<U8'), array([[-9.55703311]]),\n",
      "        array([[5.20652848]]), array([[158.]]),\n",
      "        array([], shape=(1, 0), dtype=float64),\n",
      "        array([], shape=(1, 0), dtype=float64)],\n",
      "       [array(['00:19:56'], dtype='<U8'), array([[-12.46520347]]),\n",
      "        array([[5.20652848]]), array([[158.]]),\n",
      "        array([], shape=(1, 0), dtype=float64),\n",
      "        array([], shape=(1, 0), dtype=float64)],\n",
      "       [array(['00:19:56'], dtype='<U8'), array([[-11.81681111]]),\n",
      "        array([[5.20652848]]), array([[158.]]),\n",
      "        array([], shape=(1, 0), dtype=float64),\n",
      "        array([], shape=(1, 0), dtype=float64)]], dtype=object)}\n"
     ]
    }
   ],
   "source": [
    "print(mat)\n",
    "\n",
    "\n"
   ]
  },
  {
   "cell_type": "code",
   "execution_count": 13,
   "id": "449fbd4b",
   "metadata": {},
   "outputs": [
    {
     "data": {
      "text/plain": [
       "5"
      ]
     },
     "execution_count": 13,
     "metadata": {},
     "output_type": "execute_result"
    }
   ],
   "source": [
    "len(mat)"
   ]
  }
 ],
 "metadata": {
  "kernelspec": {
   "display_name": "Python 3 (ipykernel)",
   "language": "python",
   "name": "python3"
  },
  "language_info": {
   "codemirror_mode": {
    "name": "ipython",
    "version": 3
   },
   "file_extension": ".py",
   "mimetype": "text/x-python",
   "name": "python",
   "nbconvert_exporter": "python",
   "pygments_lexer": "ipython3",
   "version": "3.10.12"
  }
 },
 "nbformat": 4,
 "nbformat_minor": 5
}
